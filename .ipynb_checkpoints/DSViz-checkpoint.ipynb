{
 "cells": [
  {
   "cell_type": "code",
   "execution_count": 1,
   "id": "1a33727f-90d7-4fe6-8e29-ed0c079875da",
   "metadata": {},
   "outputs": [],
   "source": [
    "import pandas as pd\n",
    "import matplotlib.pyplot as plt\n",
    "from matplotlib import pyplot\n",
    "%matplotlib inline\n",
    "import numpy as np\n",
    "import seaborn as sns\n",
    "from colorspacious import cspace_converter\n",
    "\n",
    "#For opening data from kaggle\n",
    "import opendatasets as od"
   ]
  },
  {
   "cell_type": "code",
   "execution_count": null,
   "id": "967a7ddb-820a-4fdf-8fd7-854ecf3a868d",
   "metadata": {},
   "outputs": [
    {
     "name": "stdout",
     "output_type": "stream",
     "text": [
      "Please provide your Kaggle credentials to download this dataset. Learn more: http://bit.ly/kaggle-creds\n",
      "Your Kaggle username:"
     ]
    }
   ],
   "source": [
    "od.download(\"https://www.kaggle.com/datasets/sujaykapadnis/horror-movies-profits-dataset\")"
   ]
  },
  {
   "cell_type": "code",
   "execution_count": null,
   "id": "d638303e-9946-480c-9a01-362a357b4edc",
   "metadata": {},
   "outputs": [],
   "source": [
    "#open dataset\n",
    "df = pd.read_csv(r'C:\\Users\\salom\\OneDrive\\Área de Trabalho\\DSStudyGroup\\movie_profit.csv', encoding='unicode_escape')\n",
    "df.head()"
   ]
  },
  {
   "cell_type": "code",
   "execution_count": null,
   "id": "014370c0-d532-4f15-b04a-4b2c1c774cc4",
   "metadata": {},
   "outputs": [],
   "source": [
    "#dropping missing values \n",
    "df.drop(df[df['domestic_gross'] == 0].index, inplace = True)"
   ]
  },
  {
   "cell_type": "code",
   "execution_count": null,
   "id": "b828db7d-39a2-4dc7-8b21-42f6462a40ac",
   "metadata": {},
   "outputs": [],
   "source": [
    "df.info()"
   ]
  },
  {
   "cell_type": "code",
   "execution_count": null,
   "id": "d7dfa870-3dc6-4ff6-b01b-8a0368f6e944",
   "metadata": {},
   "outputs": [],
   "source": [
    "df.describe(include= 'all')"
   ]
  },
  {
   "cell_type": "markdown",
   "id": "8d220dd2-9d6c-4b31-bfbc-95187a6f5560",
   "metadata": {},
   "source": [
    "# Barcharts\n",
    "\n",
    "A bar chart is a good choice when you want to show how some quantity varies among\n",
    "some discrete set of items. Below will show how to create a simple bar chart showing genre count and a grouped bar chart comparing genre count in October versus the rest of the year. \n"
   ]
  },
  {
   "cell_type": "markdown",
   "id": "adbb9442-177e-45bb-8780-b7bec1a186cf",
   "metadata": {},
   "source": [
    "## Simple Barchart"
   ]
  },
  {
   "cell_type": "code",
   "execution_count": null,
   "id": "53fc14a1-ec75-4364-b926-af0105d09dca",
   "metadata": {},
   "outputs": [],
   "source": [
    "Genre = df['genre'].unique()\n",
    "Count = df['genre'].value_counts()\n",
    "\n",
    "# plot bars with left x-coordinates [0, 200, 400, 600, 800, 1000, 1200], heights = Count\n",
    "plt.bar(range(len(Genre)), Count)\n",
    "plt.title(\"Count of Genre\") # add a title\n",
    "plt.ylabel(\"Count\") # label the y-axis\n",
    "\n",
    "# label x-axis with genre names at bar centers\n",
    "plt.xticks(range(len(Genre)), Genre)\n",
    "plt.show()\n"
   ]
  },
  {
   "cell_type": "markdown",
   "id": "0380d213-1123-46d8-a176-3aca1a6f6fc9",
   "metadata": {},
   "source": [
    "## Grouped Barchart Comparing Genre Count During October and the Rest of the Year"
   ]
  },
  {
   "cell_type": "code",
   "execution_count": null,
   "id": "64d40292-d64d-40f8-a988-360dbb6d7c5b",
   "metadata": {},
   "outputs": [],
   "source": [
    "count = df['genre'].value_counts()\n",
    "print(count)"
   ]
  },
  {
   "cell_type": "code",
   "execution_count": null,
   "id": "29090724-f084-4a66-a3ae-ee5e4d1ab0ff",
   "metadata": {},
   "outputs": [],
   "source": [
    "#isolating dataset to just October\n",
    "oct_df = df[df['release_date'].str.contains('October')]\n",
    "count_oct = oct_df['genre'].value_counts()\n",
    "print(count_oct)"
   ]
  },
  {
   "cell_type": "code",
   "execution_count": null,
   "id": "9b525e24-0ad6-4e7f-bdb3-5d166587a776",
   "metadata": {},
   "outputs": [],
   "source": [
    "#creating dataframe for bar chart \n",
    "df_bar = pd.DataFrame() \n",
    "\n",
    "#engineering columns \n",
    "df_bar['Count'] = count\n",
    "df_bar['Count_Oct'] = count_oct\n",
    "\n",
    "#creating column based on percent so x axis can be similar\n",
    "df_bar['Count_Percent'] = (df_bar['Count']/df_bar['Count'].sum())*100\n",
    "df_bar['Count_Oct_Percent'] = (df_bar['Count_Oct']/df_bar['Count_Oct'].sum())*100\n",
    "\n",
    "#resetting index \n",
    "df_bar.reset_index(inplace = True)\n",
    "\n",
    "#changing column name \n",
    "df_bar = df_bar.rename(columns={'index': 'Genre'})\n",
    "df_bar.head()"
   ]
  },
  {
   "cell_type": "code",
   "execution_count": null,
   "id": "bec62773-34b9-4789-9ae6-828ae06f8f1e",
   "metadata": {},
   "outputs": [],
   "source": [
    "# plot the dataframe\n",
    "df_bar.plot(x='Genre', y=['Count_Percent', 'Count_Oct_Percent'], title = 'Genre Percent in Oct. vs Rest of Year', kind=\"bar\", colormap='copper', figsize=(6, 5))\n",
    " \n",
    "# print bar graph\n",
    "plt.show()"
   ]
  },
  {
   "cell_type": "markdown",
   "id": "57bed2ef-d7ab-44d5-8d88-0918a8f1d1da",
   "metadata": {},
   "source": [
    "# Matplotlib Colors\n",
    "\n",
    "https://matplotlib.org/stable/users/explain/colors/colormaps.html"
   ]
  },
  {
   "cell_type": "markdown",
   "id": "43d89acc-7b62-460b-8700-e358d564939e",
   "metadata": {},
   "source": [
    "# Boxplot"
   ]
  },
  {
   "cell_type": "code",
   "execution_count": null,
   "id": "d38970ea-8af2-476d-9902-94e6b39a7bd2",
   "metadata": {},
   "outputs": [],
   "source": [
    "df_boxplot['genre'] = df['genre']\n",
    "df_boxplot"
   ]
  },
  {
   "cell_type": "code",
   "execution_count": null,
   "id": "5ed8ff43-0ca2-4c02-8d0e-5bed49cf61c1",
   "metadata": {},
   "outputs": [],
   "source": [
    "category1_data = np.random.normal(0, 1, 100)\n",
    "category2_data = np.random.normal(2, 1, 100)\n",
    "category3_data = np.random.normal(4, 1, 100)\n",
    "category4_data = np.random.normal(6, 1, 100)\n",
    "category5_data = np.random.normal(8, 1, 100)\n",
    "\n",
    "data = [category1_data, category2_data, category3_data, category4_data, category5_data]\n",
    "\n",
    "plt.boxplot(data, labels=['Category 1', 'Category 2', 'Category 3', 'Category 4', 'Category 5'])\n",
    "\n",
    "plt.xlabel('Categories')\n",
    "plt.ylabel('Values')\n",
    "plt.title('Boxplot of Five Categories')\n",
    "\n",
    "plt.show()"
   ]
  },
  {
   "cell_type": "markdown",
   "id": "a1f21db5-5ff1-41bc-a30a-0c216ca72eee",
   "metadata": {},
   "source": [
    "# Linegraphs\n",
    "These are a good choice for showing trends. Let's create a linegraph showing how horror movies perform over the year "
   ]
  },
  {
   "cell_type": "code",
   "execution_count": null,
   "id": "f7309750-f224-406f-9aa7-a2ea6c9fc505",
   "metadata": {},
   "outputs": [],
   "source": [
    "# Convert the 'Date' column to datetime type if it's not already\n",
    "df['date'] = pd.to_datetime(df['release_date'])\n",
    "\n",
    "# Create a new column 'Month' with just the month\n",
    "df['month'] = df['date'].dt.month"
   ]
  },
  {
   "cell_type": "code",
   "execution_count": null,
   "id": "fb8c004c-c6ef-4dc2-8892-9e9de98f2c32",
   "metadata": {},
   "outputs": [],
   "source": [
    "#let's keep only values from 'Horror' \n",
    "df_horror = df[df['genre'].str.contains('Horror')]"
   ]
  },
  {
   "cell_type": "code",
   "execution_count": null,
   "id": "e68586f6-861e-4bdf-8ea8-e8b38b45b0c7",
   "metadata": {},
   "outputs": [],
   "source": [
    "df_horror"
   ]
  },
  {
   "cell_type": "code",
   "execution_count": null,
   "id": "d9c14192-b856-49a6-8381-e0b1b2fd8dad",
   "metadata": {},
   "outputs": [],
   "source": [
    "df_scatter = df_horror"
   ]
  },
  {
   "cell_type": "code",
   "execution_count": null,
   "id": "9598e8f5-99ca-48ee-9ca3-d646ea8a162d",
   "metadata": {},
   "outputs": [],
   "source": [
    "df_horror = df_horror[['month', 'domestic_gross', 'worldwide_gross']]\n",
    "df_horror.head()"
   ]
  },
  {
   "cell_type": "code",
   "execution_count": null,
   "id": "33cf1756-3764-4ad3-92b6-4a771f5ca537",
   "metadata": {},
   "outputs": [],
   "source": [
    "df_horror = df_horror.groupby('month').sum()\n",
    "df_horror"
   ]
  },
  {
   "cell_type": "code",
   "execution_count": null,
   "id": "0d9c03fd-6763-4c5b-b91b-dc8e9eb7b9e1",
   "metadata": {},
   "outputs": [],
   "source": [
    "df_horror.reset_index(inplace=True)"
   ]
  },
  {
   "cell_type": "code",
   "execution_count": null,
   "id": "bd994b47-b984-4561-9690-585c005b0d8c",
   "metadata": {},
   "outputs": [],
   "source": [
    "# plot the dataframe\n",
    "df_horror.plot(x='month', y=['domestic_gross', 'worldwide_gross'], title = 'Horror Movie Revenue', kind=\"line\", colormap='Dark2', figsize=(6, 5))\n",
    " \n",
    "# print bar graph\n",
    "plt.show()\n"
   ]
  },
  {
   "cell_type": "markdown",
   "id": "de701ddd-f2e8-4512-860c-18383220c929",
   "metadata": {},
   "source": [
    "# Scatterplot"
   ]
  },
  {
   "cell_type": "code",
   "execution_count": null,
   "id": "bcadaebf-823c-4355-bca2-a05fb1bb6e0d",
   "metadata": {},
   "outputs": [],
   "source": [
    "df_scatter.head()"
   ]
  },
  {
   "cell_type": "code",
   "execution_count": null,
   "id": "d1266e47-9e75-4f9f-9a29-a53570a185fb",
   "metadata": {},
   "outputs": [],
   "source": [
    "df_scatter['day'] = df_scatter['date'].dt.day"
   ]
  },
  {
   "cell_type": "code",
   "execution_count": null,
   "id": "2f2c5933-65ae-43e5-8db7-df853c840d59",
   "metadata": {},
   "outputs": [],
   "source": [
    "df_scatter"
   ]
  },
  {
   "cell_type": "code",
   "execution_count": null,
   "id": "b966563d-3c5e-4f31-9f8e-3ef6279276a4",
   "metadata": {},
   "outputs": [],
   "source": [
    "df_scatter = df_scatter[['day', 'worldwide_gross']]\n",
    "df_scatter"
   ]
  },
  {
   "cell_type": "code",
   "execution_count": null,
   "id": "b165297d-e866-4a8f-8e5b-03842ae843aa",
   "metadata": {},
   "outputs": [],
   "source": [
    "df_scatter = df_scatter.groupby('day').mean()\n",
    "df_scatter"
   ]
  },
  {
   "cell_type": "code",
   "execution_count": null,
   "id": "9ccda24d-e1fc-414a-ae25-2eaf595ba63c",
   "metadata": {},
   "outputs": [],
   "source": [
    "df_scatter.reset_index(inplace=True)"
   ]
  },
  {
   "cell_type": "code",
   "execution_count": null,
   "id": "4b6eb31a-9db4-4c95-b27a-0aa24031e98c",
   "metadata": {},
   "outputs": [],
   "source": [
    "# plot the dataframe\n",
    "df_scatter.plot(x='day', y='worldwide_gross', title = 'Horror Movie Revenue', kind=\"scatter\", colormap='Dark2', xticks = df_scatter['day'].unique(), grid = 'True', figsize=(10, 5))\n",
    "\n",
    "\n",
    " \n",
    "# print bar graph\n",
    "plt.show()"
   ]
  },
  {
   "cell_type": "code",
   "execution_count": null,
   "id": "681a855d-d984-4bb0-bb53-ac0f264eab7b",
   "metadata": {},
   "outputs": [],
   "source": []
  }
 ],
 "metadata": {
  "kernelspec": {
   "display_name": "Python (myenv)",
   "language": "python",
   "name": "myenv"
  },
  "language_info": {
   "codemirror_mode": {
    "name": "ipython",
    "version": 3
   },
   "file_extension": ".py",
   "mimetype": "text/x-python",
   "name": "python",
   "nbconvert_exporter": "python",
   "pygments_lexer": "ipython3",
   "version": "3.10.9"
  }
 },
 "nbformat": 4,
 "nbformat_minor": 5
}
